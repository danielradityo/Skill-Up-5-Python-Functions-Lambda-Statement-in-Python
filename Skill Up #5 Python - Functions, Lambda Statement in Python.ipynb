{
 "cells": [
  {
   "cell_type": "code",
   "execution_count": 1,
   "metadata": {},
   "outputs": [],
   "source": [
    "## Create functions Loop Drawing\n",
    "\n",
    "def create_triangle(height, width):\n",
    "    z = ''\n",
    "\n",
    "    for i in range(height):\n",
    "        for j in range(width-i):\n",
    "            z += ' * '\n",
    "        z += '\\n'\n",
    "    print(z)"
   ]
  },
  {
   "cell_type": "code",
   "execution_count": 6,
   "metadata": {},
   "outputs": [
    {
     "name": "stdout",
     "output_type": "stream",
     "text": [
      " *  *  *  *  * \n",
      " *  *  *  * \n",
      " *  *  * \n",
      " *  * \n",
      " * \n",
      "\n"
     ]
    }
   ],
   "source": [
    "create_triangle(5, 5)"
   ]
  },
  {
   "cell_type": "code",
   "execution_count": 6,
   "metadata": {},
   "outputs": [],
   "source": [
    "# Create functions for multiplication\n",
    "def times(a, b):\n",
    "    c = a*b\n",
    "    return c"
   ]
  },
  {
   "cell_type": "code",
   "execution_count": 7,
   "metadata": {},
   "outputs": [
    {
     "data": {
      "text/plain": [
       "50"
      ]
     },
     "execution_count": 7,
     "metadata": {},
     "output_type": "execute_result"
    }
   ],
   "source": [
    "times(10,5)"
   ]
  },
  {
   "cell_type": "code",
   "execution_count": 12,
   "metadata": {},
   "outputs": [],
   "source": [
    "# Create function for odd event checker\n",
    "def odd_even_checker(number):\n",
    "    if number%2 != 0:\n",
    "        print('Odd')\n",
    "    else:\n",
    "        print('Even')"
   ]
  },
  {
   "cell_type": "code",
   "execution_count": 13,
   "metadata": {},
   "outputs": [
    {
     "name": "stdout",
     "output_type": "stream",
     "text": [
      "Odd\n"
     ]
    }
   ],
   "source": [
    "odd_even_checker(13)"
   ]
  },
  {
   "cell_type": "code",
   "execution_count": 14,
   "metadata": {},
   "outputs": [
    {
     "name": "stdout",
     "output_type": "stream",
     "text": [
      "Even\n"
     ]
    }
   ],
   "source": [
    "odd_even_checker(14)"
   ]
  },
  {
   "cell_type": "code",
   "execution_count": 16,
   "metadata": {},
   "outputs": [
    {
     "name": "stdout",
     "output_type": "stream",
     "text": [
      "Odd\n",
      "Even\n",
      "Odd\n",
      "Even\n",
      "Odd\n",
      "Even\n",
      "Odd\n",
      "Even\n",
      "Odd\n"
     ]
    }
   ],
   "source": [
    "# Create function for odd event checker with list\n",
    "a_list = [1,2,3,4,5,6,7,8,9]\n",
    "for i in a_list:\n",
    "    if odd_even_checker(i) == 'Odd':\n",
    "        odd.append(i)"
   ]
  },
  {
   "cell_type": "code",
   "execution_count": 41,
   "metadata": {},
   "outputs": [],
   "source": [
    "## Create function for Addition from Variabel Length\n",
    "def adding_up(*args):\n",
    "    result = 0\n",
    "    for i in args:\n",
    "        result += i\n",
    "    return result"
   ]
  },
  {
   "cell_type": "code",
   "execution_count": 42,
   "metadata": {},
   "outputs": [
    {
     "data": {
      "text/plain": [
       "20"
      ]
     },
     "execution_count": 42,
     "metadata": {},
     "output_type": "execute_result"
    }
   ],
   "source": [
    "adding_up(8, 3, 6, 1, 2)"
   ]
  },
  {
   "cell_type": "code",
   "execution_count": 51,
   "metadata": {},
   "outputs": [],
   "source": [
    "## Create function for Mean from Variabel Length  - args\n",
    "def mean(*args):\n",
    "    result = 0\n",
    "    for i in args:\n",
    "        result += i\n",
    "    avg = result/len(args)\n",
    "    return avg"
   ]
  },
  {
   "cell_type": "code",
   "execution_count": 52,
   "metadata": {},
   "outputs": [
    {
     "data": {
      "text/plain": [
       "3.8"
      ]
     },
     "execution_count": 52,
     "metadata": {},
     "output_type": "execute_result"
    }
   ],
   "source": [
    "mean(8, 2, 6, 1, 2)"
   ]
  },
  {
   "cell_type": "code",
   "execution_count": 55,
   "metadata": {},
   "outputs": [],
   "source": [
    "## Create function for Mean from Variabel Length  - args, kwargs (others)\n",
    "def mean(*args, **kwargs):\n",
    "    result = 0\n",
    "    for i in args:\n",
    "        result += i\n",
    "    avg = result/len(args)\n",
    "    for key, value in kwargs.items():\n",
    "        print(f'{key}: {value}')\n",
    "    print(f'Mean: ', avg)"
   ]
  },
  {
   "cell_type": "code",
   "execution_count": 56,
   "metadata": {},
   "outputs": [
    {
     "name": "stdout",
     "output_type": "stream",
     "text": [
      "Nama: Joko\n",
      "Mean:  3.8\n"
     ]
    }
   ],
   "source": [
    "mean(8, 2, 6, 1, 2, Nama = 'Joko')"
   ]
  },
  {
   "cell_type": "code",
   "execution_count": 59,
   "metadata": {},
   "outputs": [],
   "source": [
    "#Create functions for unpack tuple\n",
    "list_mark = [('Joko', 97), ('Adel', 99), ('Vincent',  98), ('Agus', 60)]\n",
    "\n",
    "def highest_score(list_mark):\n",
    "    highest = 0\n",
    "    student = ''\n",
    "    for name, mark in list_mark:\n",
    "        if mark > highest:\n",
    "            highest = mark\n",
    "            student = name\n",
    "    print(f'Best Student: {student}\\nScore: {highest}')"
   ]
  },
  {
   "cell_type": "code",
   "execution_count": 60,
   "metadata": {},
   "outputs": [
    {
     "name": "stdout",
     "output_type": "stream",
     "text": [
      "Best Student: Adel\n",
      "Score: 99\n"
     ]
    }
   ],
   "source": [
    "highest_score(list_mark)"
   ]
  },
  {
   "cell_type": "code",
   "execution_count": 62,
   "metadata": {},
   "outputs": [
    {
     "data": {
      "text/plain": [
       "125"
      ]
     },
     "execution_count": 62,
     "metadata": {},
     "output_type": "execute_result"
    }
   ],
   "source": [
    "#Create functions for power\n",
    "def power(a, b):\n",
    "    return a**b\n",
    "power(5, 3)"
   ]
  },
  {
   "cell_type": "code",
   "execution_count": 63,
   "metadata": {},
   "outputs": [],
   "source": [
    "#Create lambda for power\n",
    "power = lambda x:x**2"
   ]
  },
  {
   "cell_type": "code",
   "execution_count": 64,
   "metadata": {},
   "outputs": [
    {
     "data": {
      "text/plain": [
       "9"
      ]
     },
     "execution_count": 64,
     "metadata": {},
     "output_type": "execute_result"
    }
   ],
   "source": [
    "power(3)"
   ]
  }
 ],
 "metadata": {
  "kernelspec": {
   "display_name": "Python 3",
   "language": "python",
   "name": "python3"
  },
  "language_info": {
   "codemirror_mode": {
    "name": "ipython",
    "version": 3
   },
   "file_extension": ".py",
   "mimetype": "text/x-python",
   "name": "python",
   "nbconvert_exporter": "python",
   "pygments_lexer": "ipython3",
   "version": "3.8.5"
  }
 },
 "nbformat": 4,
 "nbformat_minor": 4
}
